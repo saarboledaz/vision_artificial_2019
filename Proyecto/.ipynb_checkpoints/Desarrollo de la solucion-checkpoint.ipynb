{
 "cells": [
  {
   "cell_type": "code",
   "execution_count": 27,
   "metadata": {},
   "outputs": [],
   "source": [
    "%matplotlib inline\n",
    "\n",
    "import cv2\n",
    "import matplotlib.pyplot as plt\n",
    "import numpy as np\n",
    "import warnings\n",
    "from skimage.morphology import closing, square\n",
    "from skimage.measure import label, regionprops\n",
    "from skimage.filters import threshold_otsu\n",
    "from skimage.transform import rotate\n",
    "from skimage.feature import greycomatrix, greycoprops\n",
    "from scipy.stats import kurtosis\n",
    "from scipy.stats import skew\n",
    "import os\n",
    "\n",
    "\n",
    "warnings.filterwarnings('ignore')"
   ]
  },
  {
   "cell_type": "code",
   "execution_count": null,
   "metadata": {},
   "outputs": [],
   "source": [
    "def segment(img): #Función de segmentación\n",
    "    img_rgb  = cv2.cvtColor(img, cv2.COLOR_BGR2RGB)\n",
    "    #Se obtiene cada canal del espacio CMY con una transformación lineal\n",
    "    #a los canales R, G y B\n",
    "    img_C = 255 - img_rgb[:,:,0]\n",
    "    img_M = 255 - img_rgb[:,:,1]\n",
    "    img_Y = 255 - img_rgb[:,:,2]\n",
    "    img = img_Y\n",
    "    h,w = np.shape(img)\n",
    "    center = (w / 2, h / 2) \n",
    "    if (h == 2256): #Rotar la imagen\n",
    "        img = rotate(img, angle=90,resize=True, order=0)\n",
    "        img_rgb = rotate(img_rgb, angle=90, resize=True, order=0)\n",
    "    #bw = closing(img > thresh, square(3))\n",
    "    #Definir tamaño del kernel\n",
    "    k_size = 10 \n",
    "    #aplicar filtro de suavizado\n",
    "    img = cv2.blur(img, (k_size,k_size))\n",
    "    thresh = threshold_otsu(img) #Threshold automático con el método otsu\n",
    "    img = img > thresh\n",
    "    label_img = label(img)\n",
    "    segmented = None\n",
    "    props = regionprops(label_img)\n",
    "    for prop in props: #Se evaluan las propiedades para obtener el grano de café\n",
    "        a = prop.area\n",
    "        p = prop.perimeter\n",
    "        redondez = 4*np.pi*a/p**2\n",
    "        label_n = prop.label\n",
    "        print(\"Area: {} Perimetro: {} Redondez: {}\".format(a,p,redondez))\n",
    "        if ((a > 40000) and not(redondez > 0.72 and redondez < 0.78)): #Se ha notado que los cuadrados tienen redondez entre esos rangos\n",
    "            segmented = label_img==label_n\n",
    "            print(label_n)\n",
    "            break    \n",
    "    #imgplot = plt.imshow(segmented,cmap='gray')\n",
    "    \n",
    "    img_rgb[:,:,0] = (img_rgb[:,:,0]*segmented)\n",
    "    img_rgb[:,:,1] = (img_rgb[:,:,1]*segmented)\n",
    "    img_rgb[:,:,2] = (img_rgb[:,:,2]*segmented)\n",
    "    #plt.show() \n",
    "    return [segmented, img_rgb]\n",
    "\n",
    "def form_features(img):\n",
    "    label_img = label(img)\n",
    "    props = regionprops(label_img)[0]\n",
    "    a = props.area\n",
    "    p = props.perimeter\n",
    "    compacidad = p**2/a\n",
    "    rel_area_perimetro = a /p\n",
    "    extent = a / props.bbox_area\n",
    "    solidez = a / props.convex_area\n",
    "    elongacion = props.major_axis_length/props.minor_axis_length\n",
    "    redondez = 4*np.pi*a/p**2\n",
    "    props_dict = {\"area\": a, \n",
    "                  \"perimetro\": p,\n",
    "                  \"redondez\": redondez,\n",
    "                  \"huecos\":(-props.euler_number+1),\n",
    "                  \"compacidad\":compacidad,\n",
    "                  \"a_p\":rel_area_perimetro,\n",
    "                  \"extent\":extent,\n",
    "                  \"solidez\":solidez,\n",
    "                  \"elongacion\":elongacion\n",
    "                 }\n",
    "    return props_dict\n",
    "\n",
    "def bgr_to_gray(im):\n",
    "    return cv2.cvtColor(im, cv2.COLOR_BGR2GRAY)\n",
    "\n",
    "def rgb_to_gray(im):\n",
    "    return cv2.cvtColor(im, cv2.COLOR_RGB2GRAY)\n",
    "\n",
    "def bgr_to_rgb(im):\n",
    "    return cv2.cvtColor(im, cv2.COLOR_BGR2RGB)\n",
    "\n",
    "\n",
    "def rgb_to_lab(im):\n",
    "    return cv2.cvtColor(im, cv2.COLOR_RGB2LAB)\n",
    "\n",
    "\n",
    "def rgb_to_hsv(im):\n",
    "    return cv2.cvtColor(im, cv2.COLOR_RGB2HSV)\n",
    "\n",
    "def get_lab_hsv_features(im, mask, features):\n",
    "    #La imagen de entrada debe estar en el espacio RGB\n",
    "    #Extraer el tamaño de la imagen de entrada y convertirla a LAB y HSV\n",
    "    shape = np.shape(im)\n",
    "    im_lab = rgb_to_lab(im)\n",
    "    im_hsv = rgb_to_hsv(im)\n",
    "    \n",
    "    #Definir los canales l,a,b por separado\n",
    "    l = im_lab[:,:,0]\n",
    "    s = im_hsv[:,:,1]\n",
    "    v = im_hsv[:,:,2]\n",
    "    #Definir listas vacías de canales h,s,v\n",
    "    h_1 = []\n",
    "    s_1 = []\n",
    "    v_1 = []\n",
    "    \n",
    "    #Recorrer cada posición i,j de la matriz de la imagen de entrada\n",
    "    for i in range(shape[0]):\n",
    "        for j in range(shape[1]):\n",
    "            #Condicional, si la máscara en la posición i,j es un array verdadero añadir\n",
    "            #a cada canal del nuevo HSV el píxel en esta posición\n",
    "            if((mask[i][j] == np.array([True, True, True])).all() ):\n",
    "                h_1.append(l[i][j])\n",
    "                s_1.append(s[i][j])\n",
    "                v_1.append(v[i][j])\n",
    "                \n",
    "    #Utilizar features para guardar los valores de media, desviación estándar, kurtosis y sesgo\n",
    "    #de cada uno de los canales h_1, s_1, v_1\n",
    "    features['h_mean'] = np.mean(h_1)\n",
    "    features['h_std'] = np.std(h_1)\n",
    "    features['h_kurtosis'] = kurtosis(h_1)\n",
    "    features['h_skew'] = skew(h_1)\n",
    "    features['s_mean'] = np.mean(s_1)\n",
    "    features['s_std'] = np.std(s_1)\n",
    "    features['v_kurtosis'] = kurtosis(v_1)\n",
    "    features['v_skew'] = skew(v_1)\n",
    "    features['v_mean'] = np.mean(v_1)\n",
    "    features['v_std'] = np.std(v_1)\n",
    "    features['s_kurtosis'] = kurtosis(s_1)\n",
    "    features['s_skew'] = skew(s_1)\n",
    "    return features\n",
    "\n",
    "def get_rgb_features(im,mask, features):\n",
    "    #Crear una matriz del mismo tamaño de la imagen de entrada, leer los canales R,G,B y \n",
    "    #crear listas vacías donde se aplica la máscara\n",
    "    shape = np.shape(im)\n",
    "    r = im[:,:,0]\n",
    "    g = im[:,:,1]\n",
    "    b = im[:,:,2]\n",
    "    r_1 = []\n",
    "    g_1 = []\n",
    "    b_1 = []\n",
    "    #Recorrer las posiciones i,j de la matriz de la imagen de entrada\n",
    "    for i in range(shape[0]):\n",
    "        for j in range(shape[1]):\n",
    "            #Condicional, si la máscara en la posición i,j es un array de True, añadir\n",
    "            #a cada canal del nuevo espacio RGB el píxel en esta posición\n",
    "            if( (mask[i][j] == np.array([True, True, True])).all() ): \n",
    "                r_1.append(r[i][j])\n",
    "                g_1.append(g[i][j])\n",
    "                b_1.append(b[i][j])\n",
    "    #Utilizar features para guardar los valores de media, desv.estandar, kurtosis y sesgo\n",
    "    #de los canales r_1,g_1,b_1\n",
    "    features['r_mean'] = np.mean(r_1)\n",
    "    features['r_std'] = np.std(r_1)\n",
    "    features['r_kurtosis'] = kurtosis(r_1)\n",
    "    features['r_skew'] = skew(r_1)\n",
    "    features['g_mean'] = np.mean(g_1)\n",
    "    features['g_std'] = np.std(g_1)\n",
    "    features['b_kurtosis'] = kurtosis(b_1)\n",
    "    features['b_skew'] = skew(b_1)\n",
    "    features['b_mean'] = np.mean(b_1)\n",
    "    features['b_std'] = np.std(b_1)\n",
    "    features['g_kurtosis'] = kurtosis(g_1)\n",
    "    features['g_skew'] = skew(g_1)\n",
    "    return features\n",
    "\n",
    "def get_glcm_features(img,features):\n",
    "    #Calcular el nivel co-ocurrente de gris\n",
    "    glcm = greycomatrix(img, [1,2,3], [0], 256, symmetric=True, normed=True)\n",
    "    #Calcular la dissimilaridad, contraste, homogeneidad, ASM, energía y correlación, guardar esto en la matriz\n",
    "    #de features\n",
    "    features['dissimilarity'] = greycoprops(glcm, 'dissimilarity')[0][0]\n",
    "    features['contrast'] = greycoprops(glcm, 'contrast')[0][0]\n",
    "    features['homogeneity'] =greycoprops(glcm, 'homogeneity')[0][0]\n",
    "    features['ASM'] = greycoprops(glcm, 'ASM')[0][0]\n",
    "    features['energy'] =greycoprops(glcm, 'energy')[0][0]\n",
    "    features['correlation'] = greycoprops(glcm, 'correlation')[0][0]\n",
    "    return features\n",
    "\n",
    "def features_pipeline(img, mask):\n",
    "    features = {}\n",
    "    #img_gray = rgb_to_gray(img)\n",
    "    features = get_rgb_features(img,mask,features)\n",
    "    features = get_lab_hsv_features(img,mask,features)\n",
    "    #features = get_glcm_features(img_gray, features)\n",
    "    return features\n",
    "\n",
    "\n",
    "\n"
   ]
  },
  {
   "cell_type": "code",
   "execution_count": 24,
   "metadata": {
    "scrolled": true
   },
   "outputs": [
    {
     "name": "stdout",
     "output_type": "stream",
     "text": [
      "Thresh0.6744828431372558\n"
     ]
    },
    {
     "data": {
      "image/png": "[encoded data removed]",
      "text/plain": [
       "<Figure size 432x288 with 1 Axes>"
      ]
     },
     "metadata": {
      "needs_background": "light"
     },
     "output_type": "display_data"
    },
    {
     "name": "stdout",
     "output_type": "stream",
     "text": [
      "Area: 89371 Perimetro: 1442.4082963767125 Redondez: 0.5397964922828137\n",
      "1\n"
     ]
    },
    {
     "data": {
      "image/png": "[encoded data removed]",
      "text/plain": [
       "<Figure size 432x288 with 1 Axes>"
      ]
     },
     "metadata": {
      "needs_background": "light"
     },
     "output_type": "display_data"
    },
    {
     "data": {
      "image/png": "[encoded data removed]",
      "text/plain": [
       "<Figure size 432x288 with 1 Axes>"
      ]
     },
     "metadata": {
      "needs_background": "light"
     },
     "output_type": "display_data"
    }
   ],
   "source": [
    "filename = \"CAFE/Desconocido_tanda2/IMG_0006.jpg\"\n",
    "img = cv2.imread(filename, cv2.IMREAD_COLOR)\n",
    "results = segment(img) ##Segmentar la imagen\n",
    "mask = results[0] #Imagen binaria segmentada \n",
    "img = results[1] #Imagen original segmentada\n",
    "img = img.astype(np.float32)\n",
    "\n",
    "\n",
    "\n",
    "\n",
    "imgplot = plt.imshow(img) \n",
    "plt.show()\n",
    "\n",
    "form_f = form_features(mask) #Diccionario de características de forma(ingresando solo la máscara)\n",
    "texture_f = features_pipeline(img,mask) #Diccionario de características de textura\n"
   ]
  },
  {
   "cell_type": "code",
   "execution_count": 6,
   "metadata": {},
   "outputs": [
    {
     "name": "stdout",
     "output_type": "stream",
     "text": [
      "{'area': 89371, 'perimetro': 1442.4082963767125, 'redondez': 0.5397964922828137, 'huecos': 5, 'compacidad': 23.279830073025593, 'a_p': 61.95957151972665, 'extent': 0.7707851795632525, 'solidez': 0.9733918574509334, 'elongacion': 1.3779639357153597}\n",
      "{'r_mean': 0.5979134, 'r_std': 0.0843556, 'r_kurtosis': -0.49208587701627593, 'r_skew': 0.19208993017673492, 'g_mean': 0.5003507, 'g_std': 0.09415605, 'b_kurtosis': -0.4523815252370187, 'b_skew': 0.3876340985298157, 'b_mean': 0.20098749, 'b_std': 0.074246675, 'g_kurtosis': -0.6421751138862062, 'g_skew': 0.2558586597442627, 'h_mean': 54.14687, 'h_std': 8.92061, 'h_kurtosis': -0.6579430299824867, 'h_skew': 0.17791485786437988, 's_mean': 0.6731011, 's_std': 0.083819635, 'v_kurtosis': -0.49208587701627593, 'v_skew': 0.19208993017673492, 'v_mean': 0.5979134, 'v_std': 0.0843556, 's_kurtosis': -0.31552564382246384, 's_skew': -0.13336396217346191}\n"
     ]
    }
   ],
   "source": [
    "print(form_f)\n",
    "print(texture_f)"
   ]
  },
  {
   "cell_type": "code",
   "execution_count": null,
   "metadata": {},
   "outputs": [],
   "source": [
    "def filter(form, texture):\n",
    "    if (form[\"huecos\"] >0):\n",
    "        return \"Broca\"\n",
    "    \n",
    "def pre_filter():\n",
    "    path = \"CAFE/Clasificar/\"\n",
    "    files = os.listdir(path)\n",
    "    clasification_dict = {\n",
    "        \"Broca\":[],\n",
    "        \"Bien\":[],\n",
    "        \"Arrugados\":[],\n",
    "        \"Mordido\":[],\n",
    "        \"Malos\":[]\n",
    "    }\n",
    "    for file in files:\n",
    "        img = cv2.imread(path+file, cv2.IMREAD_COLOR)\n",
    "        results = segment(img) ##Segmentar la imagen\n",
    "        mask = results[0] #Imagen binaria segmentada \n",
    "        img = results[1] #Imagen original segmentada\n",
    "        img = img.astype(np.float32)\n",
    "        form_f = form_features(mask) #Diccionario de características de forma(ingresando solo la máscara)\n",
    "        texture_f = features_pipeline(img,mask) #Diccionario de características de textura\n",
    "        place = filter(form_f,texture_f)\n",
    "        clasification_dict[place].append(file)\n",
    "    return clasification_dict\n",
    "        "
   ]
  },
  {
   "cell_type": "code",
   "execution_count": null,
   "metadata": {},
   "outputs": [],
   "source": []
  }
 ],
 "metadata": {
  "kernelspec": {
   "display_name": "Python 3",
   "language": "python",
   "name": "python3"
  },
  "language_info": {
   "codemirror_mode": {
    "name": "ipython",
    "version": 3
   },
   "file_extension": ".py",
   "mimetype": "text/x-python",
   "name": "python",
   "nbconvert_exporter": "python",
   "pygments_lexer": "ipython3",
   "version": "3.7.0"
  }
 },
 "nbformat": 4,
 "nbformat_minor": 2
}
