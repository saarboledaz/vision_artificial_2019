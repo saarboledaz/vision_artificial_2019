{
 "cells": [
  {
   "cell_type": "markdown",
   "metadata": {},
   "source": [
    "<h1>Segmentación</h1>\n"
   ]
  },
  {
   "cell_type": "code",
   "execution_count": 141,
   "metadata": {},
   "outputs": [],
   "source": [
    "%matplotlib inline\n",
    "\n",
    "import cv2\n",
    "import matplotlib.pyplot as plt\n",
    "import numpy as np\n",
    "import warnings\n",
    "from skimage.morphology import closing, square\n",
    "from skimage.measure import label, regionprops\n",
    "from skimage.filters import threshold_otsu\n",
    "from skimage.transform import rotate\n",
    "\n",
    "\n",
    "warnings.filterwarnings('ignore')"
   ]
  },
  {
   "cell_type": "code",
   "execution_count": 153,
   "metadata": {},
   "outputs": [],
   "source": [
    "def segment(filename): #Función de segmentación\n",
    "    img = cv2.imread(filename, cv2.IMREAD_COLOR)\n",
    "    img_rgb  = cv2.cvtColor(img, cv2.COLOR_BGR2RGB)\n",
    "    #Se obtiene cada canal del espacio CMY con una transformación lineal\n",
    "    #a los canales R, G y B\n",
    "    img_C = 255 - img_rgb[:,:,0]\n",
    "    img_M = 255 - img_rgb[:,:,1]\n",
    "    img_Y = 255 - img_rgb[:,:,2]\n",
    "    img = img_Y\n",
    "    h,w = np.shape(img)\n",
    "    center = (w / 2, h / 2) \n",
    "    if (h == 2256): #Rotar la imagen\n",
    "        img = rotate(img, angle=90,resize=True, order=0)\n",
    "    #bw = closing(img > thresh, square(3))\n",
    "    #Definir tamaño del kernel\n",
    "    k_size = 10 \n",
    "    #aplicar filtro de suavizado\n",
    "    img = cv2.blur(img, (k_size,k_size))\n",
    "    thresh = threshold_otsu(img) #Threshold automático con el método otsu\n",
    "    img = img > thresh\n",
    "    label_img = label(img)\n",
    "    segmented = None\n",
    "    props = regionprops(label_img)\n",
    "    for prop in props: #Se evaluan las propiedades para obtener el grano de café\n",
    "        a = prop.area\n",
    "        p = prop.perimeter\n",
    "        redondez = 4*np.pi*a/p**2\n",
    "        label_n = prop.label\n",
    "        print(\"Area: {} Perimetro: {} Redondez: {}\".format(a,p,redondez))\n",
    "        if ((a > 40000) and not(redondez > 0.72 and redondez < 0.78)): #Se ha notado que los cuadrados tienen redondez entre esos rangos\n",
    "            segmented = label_img==label_n\n",
    "            print(label_n)\n",
    "            break    \n",
    "    imgplot = plt.imshow(segmented,cmap='gray') \n",
    "    plt.show() \n",
    "    return segmented"
   ]
  },
  {
   "cell_type": "code",
   "execution_count": 154,
   "metadata": {},
   "outputs": [
    {
     "name": "stdout",
     "output_type": "stream",
     "text": [
      "Area: 80238 Perimetro: 1167.4041122946064 Redondez: 0.7398565472259608\n",
      "Area: 82439 Perimetro: 1297.4844148224613 Redondez: 0.6153727761797935\n",
      "2\n"
     ]
    },
    {
     "data": {
      "image/png": "[encoded data removed]",
      "text/plain": [
       "<Figure size 432x288 with 1 Axes>"
      ]
     },
     "metadata": {
      "needs_background": "light"
     },
     "output_type": "display_data"
    }
   ],
   "source": [
    "filename = \"CAFE/Desconocido_tanda2/IMG_0016.jpg\"\n",
    "img = segment(filename)"
   ]
  }
 ],
 "metadata": {
  "kernelspec": {
   "display_name": "Python 3",
   "language": "python",
   "name": "python3"
  },
  "language_info": {
   "codemirror_mode": {
    "name": "ipython",
    "version": 3
   },
   "file_extension": ".py",
   "mimetype": "text/x-python",
   "name": "python",
   "nbconvert_exporter": "python",
   "pygments_lexer": "ipython3",
   "version": "3.7.3"
  }
 },
 "nbformat": 4,
 "nbformat_minor": 2
}
